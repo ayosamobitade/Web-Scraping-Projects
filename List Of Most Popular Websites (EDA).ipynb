{
 "cells": [
  {
   "cell_type": "markdown",
   "metadata": {},
   "source": [
    "## Web Scrapping And Analysis of \"list of most popular website\" from Wikipedia"
   ]
  },
  {
   "cell_type": "code",
   "execution_count": 1,
   "metadata": {},
   "outputs": [],
   "source": [
    "# import necessary libraries\n",
    "\n",
    "import pandas as pd\n",
    "import requests\n",
    "from bs4 import BeautifulSoup\n",
    "import matplotlib.pyplot as plt\n",
    "import seaborn as sns\n",
    "sns.set_style(\"white\")"
   ]
  },
  {
   "cell_type": "code",
   "execution_count": 2,
   "metadata": {},
   "outputs": [
    {
     "name": "stdout",
     "output_type": "stream",
     "text": [
      "200\n"
     ]
    }
   ],
   "source": [
    "# Request for the HTML response using the URL\n",
    "\n",
    "wikipedia_url = \"https://en.wikipedia.org/wiki/List_of_most_visited_websites\"\n",
    "response = requests.get(wikipedia_url)\n",
    "print(response.status_code)\n"
   ]
  },
  {
   "cell_type": "code",
   "execution_count": 3,
   "metadata": {},
   "outputs": [],
   "source": [
    "# parse data from the html into a beautifulsoup object\n",
    "\n",
    "soup = BeautifulSoup(response.text, \"html.parser\")\n",
    "website_table = soup.find(\"table\", {\"class\":\"wikitable\"})"
   ]
  },
  {
   "cell_type": "code",
   "execution_count": 4,
   "metadata": {
    "scrolled": true
   },
   "outputs": [
    {
     "data": {
      "text/html": [
       "<div>\n",
       "<style scoped>\n",
       "    .dataframe tbody tr th:only-of-type {\n",
       "        vertical-align: middle;\n",
       "    }\n",
       "\n",
       "    .dataframe tbody tr th {\n",
       "        vertical-align: top;\n",
       "    }\n",
       "\n",
       "    .dataframe thead th {\n",
       "        text-align: right;\n",
       "    }\n",
       "</style>\n",
       "<table border=\"1\" class=\"dataframe\">\n",
       "  <thead>\n",
       "    <tr style=\"text-align: right;\">\n",
       "      <th></th>\n",
       "      <th>Site</th>\n",
       "      <th>Domain Name</th>\n",
       "      <th>Similarweb top 50websites ranking(As of April 1, 2022[1]</th>\n",
       "      <th>Category</th>\n",
       "      <th>Principal country/territory</th>\n",
       "    </tr>\n",
       "  </thead>\n",
       "  <tbody>\n",
       "    <tr>\n",
       "      <th>0</th>\n",
       "      <td>Google Search</td>\n",
       "      <td>google.com</td>\n",
       "      <td>1 ()</td>\n",
       "      <td>Computers Electronics and Technology &gt; Search ...</td>\n",
       "      <td>United States</td>\n",
       "    </tr>\n",
       "    <tr>\n",
       "      <th>1</th>\n",
       "      <td>YouTube</td>\n",
       "      <td>youtube.com</td>\n",
       "      <td>2 ()</td>\n",
       "      <td>Arts &amp; Entertainment &gt; TV Movies and Streaming</td>\n",
       "      <td>United States</td>\n",
       "    </tr>\n",
       "    <tr>\n",
       "      <th>2</th>\n",
       "      <td>Facebook</td>\n",
       "      <td>facebook.com</td>\n",
       "      <td>3 ()</td>\n",
       "      <td>Computers Electronics and Technology &gt; Social ...</td>\n",
       "      <td>United States</td>\n",
       "    </tr>\n",
       "    <tr>\n",
       "      <th>3</th>\n",
       "      <td>Twitter</td>\n",
       "      <td>twitter.com</td>\n",
       "      <td>4 ()</td>\n",
       "      <td>Computers Electronics and Technology &gt; Social ...</td>\n",
       "      <td>United States</td>\n",
       "    </tr>\n",
       "    <tr>\n",
       "      <th>4</th>\n",
       "      <td>Instagram</td>\n",
       "      <td>instagram.com</td>\n",
       "      <td>5 ()</td>\n",
       "      <td>Computers Electronics and Technology &gt; Social ...</td>\n",
       "      <td>United States</td>\n",
       "    </tr>\n",
       "  </tbody>\n",
       "</table>\n",
       "</div>"
      ],
      "text/plain": [
       "            Site    Domain Name  \\\n",
       "0  Google Search     google.com   \n",
       "1        YouTube    youtube.com   \n",
       "2       Facebook   facebook.com   \n",
       "3        Twitter    twitter.com   \n",
       "4      Instagram  instagram.com   \n",
       "\n",
       "  Similarweb top 50websites ranking(As of April 1, 2022[1]  \\\n",
       "0                                               1 ()         \n",
       "1                                               2 ()         \n",
       "2                                               3 ()         \n",
       "3                                               4 ()         \n",
       "4                                               5 ()         \n",
       "\n",
       "                                            Category  \\\n",
       "0  Computers Electronics and Technology > Search ...   \n",
       "1     Arts & Entertainment > TV Movies and Streaming   \n",
       "2  Computers Electronics and Technology > Social ...   \n",
       "3  Computers Electronics and Technology > Social ...   \n",
       "4  Computers Electronics and Technology > Social ...   \n",
       "\n",
       "  Principal country/territory  \n",
       "0               United States  \n",
       "1               United States  \n",
       "2               United States  \n",
       "3               United States  \n",
       "4               United States  "
      ]
     },
     "execution_count": 4,
     "metadata": {},
     "output_type": "execute_result"
    }
   ],
   "source": [
    "# puting the table into a dataframe\n",
    "\n",
    "popular_website_df = pd.read_html(str(website_table))\n",
    "df = pd.DataFrame(popular_website_df[0])\n",
    "df.head()"
   ]
  },
  {
   "cell_type": "markdown",
   "metadata": {},
   "source": [
    "## Cleaning the dataframe"
   ]
  },
  {
   "cell_type": "code",
   "execution_count": 5,
   "metadata": {
    "scrolled": true
   },
   "outputs": [
    {
     "data": {
      "text/html": [
       "<div>\n",
       "<style scoped>\n",
       "    .dataframe tbody tr th:only-of-type {\n",
       "        vertical-align: middle;\n",
       "    }\n",
       "\n",
       "    .dataframe tbody tr th {\n",
       "        vertical-align: top;\n",
       "    }\n",
       "\n",
       "    .dataframe thead th {\n",
       "        text-align: right;\n",
       "    }\n",
       "</style>\n",
       "<table border=\"1\" class=\"dataframe\">\n",
       "  <thead>\n",
       "    <tr style=\"text-align: right;\">\n",
       "      <th></th>\n",
       "      <th>Site</th>\n",
       "      <th>Domain Name</th>\n",
       "      <th>Similarweb top 50websites ranking(As of April 1, 2022[1]</th>\n",
       "      <th>Category</th>\n",
       "      <th>Country</th>\n",
       "    </tr>\n",
       "  </thead>\n",
       "  <tbody>\n",
       "    <tr>\n",
       "      <th>0</th>\n",
       "      <td>Google Search</td>\n",
       "      <td>google.com</td>\n",
       "      <td>1 ()</td>\n",
       "      <td>Computers Electronics and Technology &gt; Search ...</td>\n",
       "      <td>United States</td>\n",
       "    </tr>\n",
       "    <tr>\n",
       "      <th>1</th>\n",
       "      <td>YouTube</td>\n",
       "      <td>youtube.com</td>\n",
       "      <td>2 ()</td>\n",
       "      <td>Arts &amp; Entertainment &gt; TV Movies and Streaming</td>\n",
       "      <td>United States</td>\n",
       "    </tr>\n",
       "    <tr>\n",
       "      <th>2</th>\n",
       "      <td>Facebook</td>\n",
       "      <td>facebook.com</td>\n",
       "      <td>3 ()</td>\n",
       "      <td>Computers Electronics and Technology &gt; Social ...</td>\n",
       "      <td>United States</td>\n",
       "    </tr>\n",
       "    <tr>\n",
       "      <th>3</th>\n",
       "      <td>Twitter</td>\n",
       "      <td>twitter.com</td>\n",
       "      <td>4 ()</td>\n",
       "      <td>Computers Electronics and Technology &gt; Social ...</td>\n",
       "      <td>United States</td>\n",
       "    </tr>\n",
       "    <tr>\n",
       "      <th>4</th>\n",
       "      <td>Instagram</td>\n",
       "      <td>instagram.com</td>\n",
       "      <td>5 ()</td>\n",
       "      <td>Computers Electronics and Technology &gt; Social ...</td>\n",
       "      <td>United States</td>\n",
       "    </tr>\n",
       "  </tbody>\n",
       "</table>\n",
       "</div>"
      ],
      "text/plain": [
       "            Site    Domain Name  \\\n",
       "0  Google Search     google.com   \n",
       "1        YouTube    youtube.com   \n",
       "2       Facebook   facebook.com   \n",
       "3        Twitter    twitter.com   \n",
       "4      Instagram  instagram.com   \n",
       "\n",
       "  Similarweb top 50websites ranking(As of April 1, 2022[1]  \\\n",
       "0                                               1 ()         \n",
       "1                                               2 ()         \n",
       "2                                               3 ()         \n",
       "3                                               4 ()         \n",
       "4                                               5 ()         \n",
       "\n",
       "                                            Category        Country  \n",
       "0  Computers Electronics and Technology > Search ...  United States  \n",
       "1     Arts & Entertainment > TV Movies and Streaming  United States  \n",
       "2  Computers Electronics and Technology > Social ...  United States  \n",
       "3  Computers Electronics and Technology > Social ...  United States  \n",
       "4  Computers Electronics and Technology > Social ...  United States  "
      ]
     },
     "execution_count": 5,
     "metadata": {},
     "output_type": "execute_result"
    }
   ],
   "source": [
    "# renaming the column for easy access\n",
    "\n",
    "df = df.rename(columns = {'Similarweb top 50websites ranking(As of April 1, 2022[1]': \"SimilarWeb Ranking\", \"Principal country/territory\":\"Country\"})\n",
    "\n",
    "df.head()"
   ]
  },
  {
   "cell_type": "code",
   "execution_count": 6,
   "metadata": {},
   "outputs": [
    {
     "data": {
      "text/html": [
       "<div>\n",
       "<style scoped>\n",
       "    .dataframe tbody tr th:only-of-type {\n",
       "        vertical-align: middle;\n",
       "    }\n",
       "\n",
       "    .dataframe tbody tr th {\n",
       "        vertical-align: top;\n",
       "    }\n",
       "\n",
       "    .dataframe thead th {\n",
       "        text-align: right;\n",
       "    }\n",
       "</style>\n",
       "<table border=\"1\" class=\"dataframe\">\n",
       "  <thead>\n",
       "    <tr style=\"text-align: right;\">\n",
       "      <th></th>\n",
       "      <th>Site</th>\n",
       "      <th>Domain Name</th>\n",
       "      <th>Similarweb top 50websites ranking(As of April 1, 2022[1]</th>\n",
       "      <th>Category</th>\n",
       "      <th>Country</th>\n",
       "      <th>SubCategory</th>\n",
       "    </tr>\n",
       "  </thead>\n",
       "  <tbody>\n",
       "    <tr>\n",
       "      <th>0</th>\n",
       "      <td>Google Search</td>\n",
       "      <td>google.com</td>\n",
       "      <td>1 ()</td>\n",
       "      <td>Computers Electronics and Technology</td>\n",
       "      <td>United States</td>\n",
       "      <td>Search Engines</td>\n",
       "    </tr>\n",
       "    <tr>\n",
       "      <th>1</th>\n",
       "      <td>YouTube</td>\n",
       "      <td>youtube.com</td>\n",
       "      <td>2 ()</td>\n",
       "      <td>Arts &amp; Entertainment</td>\n",
       "      <td>United States</td>\n",
       "      <td>TV Movies and Streaming</td>\n",
       "    </tr>\n",
       "    <tr>\n",
       "      <th>2</th>\n",
       "      <td>Facebook</td>\n",
       "      <td>facebook.com</td>\n",
       "      <td>3 ()</td>\n",
       "      <td>Computers Electronics and Technology</td>\n",
       "      <td>United States</td>\n",
       "      <td>Social Networks and Online Communities</td>\n",
       "    </tr>\n",
       "    <tr>\n",
       "      <th>3</th>\n",
       "      <td>Twitter</td>\n",
       "      <td>twitter.com</td>\n",
       "      <td>4 ()</td>\n",
       "      <td>Computers Electronics and Technology</td>\n",
       "      <td>United States</td>\n",
       "      <td>Social Networks and Online Communities</td>\n",
       "    </tr>\n",
       "    <tr>\n",
       "      <th>4</th>\n",
       "      <td>Instagram</td>\n",
       "      <td>instagram.com</td>\n",
       "      <td>5 ()</td>\n",
       "      <td>Computers Electronics and Technology</td>\n",
       "      <td>United States</td>\n",
       "      <td>Social Networks and Online Communities</td>\n",
       "    </tr>\n",
       "  </tbody>\n",
       "</table>\n",
       "</div>"
      ],
      "text/plain": [
       "            Site    Domain Name  \\\n",
       "0  Google Search     google.com   \n",
       "1        YouTube    youtube.com   \n",
       "2       Facebook   facebook.com   \n",
       "3        Twitter    twitter.com   \n",
       "4      Instagram  instagram.com   \n",
       "\n",
       "  Similarweb top 50websites ranking(As of April 1, 2022[1]  \\\n",
       "0                                               1 ()         \n",
       "1                                               2 ()         \n",
       "2                                               3 ()         \n",
       "3                                               4 ()         \n",
       "4                                               5 ()         \n",
       "\n",
       "                               Category        Country  \\\n",
       "0  Computers Electronics and Technology  United States   \n",
       "1                  Arts & Entertainment  United States   \n",
       "2  Computers Electronics and Technology  United States   \n",
       "3  Computers Electronics and Technology  United States   \n",
       "4  Computers Electronics and Technology  United States   \n",
       "\n",
       "                              SubCategory  \n",
       "0                          Search Engines  \n",
       "1                 TV Movies and Streaming  \n",
       "2  Social Networks and Online Communities  \n",
       "3  Social Networks and Online Communities  \n",
       "4  Social Networks and Online Communities  "
      ]
     },
     "execution_count": 6,
     "metadata": {},
     "output_type": "execute_result"
    }
   ],
   "source": [
    "# splitting the category column\n",
    "\n",
    "df[['Category', 'SubCategory']] = df['Category'].str.split(\" > \", expand = True)\n",
    "df.head()"
   ]
  },
  {
   "cell_type": "code",
   "execution_count": 7,
   "metadata": {},
   "outputs": [
    {
     "data": {
      "text/plain": [
       "Index(['Site', 'Domain Name',\n",
       "       'Similarweb top 50websites ranking(As of April 1, 2022[1]', 'Category',\n",
       "       'Country', 'SubCategory'],\n",
       "      dtype='object')"
      ]
     },
     "execution_count": 7,
     "metadata": {},
     "output_type": "execute_result"
    }
   ],
   "source": [
    "df.columns\n"
   ]
  },
  {
   "cell_type": "code",
   "execution_count": 8,
   "metadata": {},
   "outputs": [
    {
     "data": {
      "text/html": [
       "<div>\n",
       "<style scoped>\n",
       "    .dataframe tbody tr th:only-of-type {\n",
       "        vertical-align: middle;\n",
       "    }\n",
       "\n",
       "    .dataframe tbody tr th {\n",
       "        vertical-align: top;\n",
       "    }\n",
       "\n",
       "    .dataframe thead th {\n",
       "        text-align: right;\n",
       "    }\n",
       "</style>\n",
       "<table border=\"1\" class=\"dataframe\">\n",
       "  <thead>\n",
       "    <tr style=\"text-align: right;\">\n",
       "      <th></th>\n",
       "      <th>Site</th>\n",
       "      <th>Domain Name</th>\n",
       "      <th>Similarweb top 50websites ranking(As of April 1, 2022[1]</th>\n",
       "      <th>Category</th>\n",
       "      <th>Country</th>\n",
       "      <th>SubCategory</th>\n",
       "      <th>SmilarWeb Rank</th>\n",
       "      <th>nonsense_to_remove</th>\n",
       "    </tr>\n",
       "  </thead>\n",
       "  <tbody>\n",
       "    <tr>\n",
       "      <th>0</th>\n",
       "      <td>Google Search</td>\n",
       "      <td>google.com</td>\n",
       "      <td>1 ()</td>\n",
       "      <td>Computers Electronics and Technology</td>\n",
       "      <td>United States</td>\n",
       "      <td>Search Engines</td>\n",
       "      <td>1</td>\n",
       "      <td>()</td>\n",
       "    </tr>\n",
       "    <tr>\n",
       "      <th>1</th>\n",
       "      <td>YouTube</td>\n",
       "      <td>youtube.com</td>\n",
       "      <td>2 ()</td>\n",
       "      <td>Arts &amp; Entertainment</td>\n",
       "      <td>United States</td>\n",
       "      <td>TV Movies and Streaming</td>\n",
       "      <td>2</td>\n",
       "      <td>()</td>\n",
       "    </tr>\n",
       "    <tr>\n",
       "      <th>2</th>\n",
       "      <td>Facebook</td>\n",
       "      <td>facebook.com</td>\n",
       "      <td>3 ()</td>\n",
       "      <td>Computers Electronics and Technology</td>\n",
       "      <td>United States</td>\n",
       "      <td>Social Networks and Online Communities</td>\n",
       "      <td>3</td>\n",
       "      <td>()</td>\n",
       "    </tr>\n",
       "    <tr>\n",
       "      <th>3</th>\n",
       "      <td>Twitter</td>\n",
       "      <td>twitter.com</td>\n",
       "      <td>4 ()</td>\n",
       "      <td>Computers Electronics and Technology</td>\n",
       "      <td>United States</td>\n",
       "      <td>Social Networks and Online Communities</td>\n",
       "      <td>4</td>\n",
       "      <td>()</td>\n",
       "    </tr>\n",
       "    <tr>\n",
       "      <th>4</th>\n",
       "      <td>Instagram</td>\n",
       "      <td>instagram.com</td>\n",
       "      <td>5 ()</td>\n",
       "      <td>Computers Electronics and Technology</td>\n",
       "      <td>United States</td>\n",
       "      <td>Social Networks and Online Communities</td>\n",
       "      <td>5</td>\n",
       "      <td>()</td>\n",
       "    </tr>\n",
       "  </tbody>\n",
       "</table>\n",
       "</div>"
      ],
      "text/plain": [
       "            Site    Domain Name  \\\n",
       "0  Google Search     google.com   \n",
       "1        YouTube    youtube.com   \n",
       "2       Facebook   facebook.com   \n",
       "3        Twitter    twitter.com   \n",
       "4      Instagram  instagram.com   \n",
       "\n",
       "  Similarweb top 50websites ranking(As of April 1, 2022[1]  \\\n",
       "0                                               1 ()         \n",
       "1                                               2 ()         \n",
       "2                                               3 ()         \n",
       "3                                               4 ()         \n",
       "4                                               5 ()         \n",
       "\n",
       "                               Category        Country  \\\n",
       "0  Computers Electronics and Technology  United States   \n",
       "1                  Arts & Entertainment  United States   \n",
       "2  Computers Electronics and Technology  United States   \n",
       "3  Computers Electronics and Technology  United States   \n",
       "4  Computers Electronics and Technology  United States   \n",
       "\n",
       "                              SubCategory SmilarWeb Rank nonsense_to_remove  \n",
       "0                          Search Engines              1                 ()  \n",
       "1                 TV Movies and Streaming              2                 ()  \n",
       "2  Social Networks and Online Communities              3                 ()  \n",
       "3  Social Networks and Online Communities              4                 ()  \n",
       "4  Social Networks and Online Communities              5                 ()  "
      ]
     },
     "execution_count": 8,
     "metadata": {},
     "output_type": "execute_result"
    }
   ],
   "source": [
    "df[[\"SmilarWeb Rank\", \"nonsense_to_remove\"]] = df.iloc[:,2].str.split(\" \", expand = True)\n",
    "df.head()"
   ]
  },
  {
   "cell_type": "code",
   "execution_count": 9,
   "metadata": {},
   "outputs": [
    {
     "data": {
      "text/plain": [
       "Index(['Site', 'Domain Name',\n",
       "       'Similarweb top 50websites ranking(As of April 1, 2022[1]', 'Category',\n",
       "       'Country', 'SubCategory', 'SmilarWeb Rank', 'nonsense_to_remove'],\n",
       "      dtype='object')"
      ]
     },
     "execution_count": 9,
     "metadata": {},
     "output_type": "execute_result"
    }
   ],
   "source": [
    "df.columns"
   ]
  },
  {
   "cell_type": "code",
   "execution_count": 10,
   "metadata": {},
   "outputs": [
    {
     "data": {
      "text/html": [
       "<div>\n",
       "<style scoped>\n",
       "    .dataframe tbody tr th:only-of-type {\n",
       "        vertical-align: middle;\n",
       "    }\n",
       "\n",
       "    .dataframe tbody tr th {\n",
       "        vertical-align: top;\n",
       "    }\n",
       "\n",
       "    .dataframe thead th {\n",
       "        text-align: right;\n",
       "    }\n",
       "</style>\n",
       "<table border=\"1\" class=\"dataframe\">\n",
       "  <thead>\n",
       "    <tr style=\"text-align: right;\">\n",
       "      <th></th>\n",
       "      <th>Site</th>\n",
       "      <th>Domain Name</th>\n",
       "      <th>Category</th>\n",
       "      <th>SubCategory</th>\n",
       "      <th>Country</th>\n",
       "      <th>SmilarWeb Rank</th>\n",
       "    </tr>\n",
       "  </thead>\n",
       "  <tbody>\n",
       "    <tr>\n",
       "      <th>0</th>\n",
       "      <td>Google Search</td>\n",
       "      <td>google.com</td>\n",
       "      <td>Computers Electronics and Technology</td>\n",
       "      <td>Search Engines</td>\n",
       "      <td>United States</td>\n",
       "      <td>1</td>\n",
       "    </tr>\n",
       "    <tr>\n",
       "      <th>1</th>\n",
       "      <td>YouTube</td>\n",
       "      <td>youtube.com</td>\n",
       "      <td>Arts &amp; Entertainment</td>\n",
       "      <td>TV Movies and Streaming</td>\n",
       "      <td>United States</td>\n",
       "      <td>2</td>\n",
       "    </tr>\n",
       "    <tr>\n",
       "      <th>2</th>\n",
       "      <td>Facebook</td>\n",
       "      <td>facebook.com</td>\n",
       "      <td>Computers Electronics and Technology</td>\n",
       "      <td>Social Networks and Online Communities</td>\n",
       "      <td>United States</td>\n",
       "      <td>3</td>\n",
       "    </tr>\n",
       "    <tr>\n",
       "      <th>3</th>\n",
       "      <td>Twitter</td>\n",
       "      <td>twitter.com</td>\n",
       "      <td>Computers Electronics and Technology</td>\n",
       "      <td>Social Networks and Online Communities</td>\n",
       "      <td>United States</td>\n",
       "      <td>4</td>\n",
       "    </tr>\n",
       "    <tr>\n",
       "      <th>4</th>\n",
       "      <td>Instagram</td>\n",
       "      <td>instagram.com</td>\n",
       "      <td>Computers Electronics and Technology</td>\n",
       "      <td>Social Networks and Online Communities</td>\n",
       "      <td>United States</td>\n",
       "      <td>5</td>\n",
       "    </tr>\n",
       "  </tbody>\n",
       "</table>\n",
       "</div>"
      ],
      "text/plain": [
       "            Site    Domain Name                              Category  \\\n",
       "0  Google Search     google.com  Computers Electronics and Technology   \n",
       "1        YouTube    youtube.com                  Arts & Entertainment   \n",
       "2       Facebook   facebook.com  Computers Electronics and Technology   \n",
       "3        Twitter    twitter.com  Computers Electronics and Technology   \n",
       "4      Instagram  instagram.com  Computers Electronics and Technology   \n",
       "\n",
       "                              SubCategory        Country SmilarWeb Rank  \n",
       "0                          Search Engines  United States              1  \n",
       "1                 TV Movies and Streaming  United States              2  \n",
       "2  Social Networks and Online Communities  United States              3  \n",
       "3  Social Networks and Online Communities  United States              4  \n",
       "4  Social Networks and Online Communities  United States              5  "
      ]
     },
     "execution_count": 10,
     "metadata": {},
     "output_type": "execute_result"
    }
   ],
   "source": [
    "# selection and regrouping of columns\n",
    "\n",
    "df = df[['Site', 'Domain Name', 'Category', 'SubCategory', 'Country', 'SmilarWeb Rank']]\n",
    "df.head()"
   ]
  },
  {
   "cell_type": "markdown",
   "metadata": {},
   "source": [
    "## Top Ranked Countries"
   ]
  },
  {
   "cell_type": "code",
   "execution_count": 11,
   "metadata": {
    "scrolled": true
   },
   "outputs": [
    {
     "data": {
      "text/plain": [
       "United States     30\n",
       "Russia             6\n",
       "China              4\n",
       "Japan              2\n",
       "Czech Republic     2\n",
       "Brazil             2\n",
       "South Korea        2\n",
       "Canada             1\n",
       "Cyprus             1\n",
       "Name: Country, dtype: int64"
      ]
     },
     "execution_count": 11,
     "metadata": {},
     "output_type": "execute_result"
    }
   ],
   "source": [
    "# top countries with highest number of high ranked website is The United State, followed by Rusia\n",
    "\n",
    "df[\"Country\"].value_counts()"
   ]
  },
  {
   "cell_type": "code",
   "execution_count": 12,
   "metadata": {},
   "outputs": [
    {
     "data": {
      "image/png": "[encoded data removed]",
      "text/plain": [
       "<Figure size 648x432 with 1 Axes>"
      ]
     },
     "metadata": {},
     "output_type": "display_data"
    }
   ],
   "source": [
    "\n",
    "# creating the plot\n",
    "figure, axis = plt.subplots(figsize = (9,6))\n",
    "\n",
    "top_country = df[\"Country\"].value_counts()\n",
    "\n",
    "plot = axis.barh(top_country.index, top_country)\n",
    "plt.title('Number of Top website by Country', size=25)\n",
    "plt.xlabel('Number of Website', size = 20)\n",
    "plt.ylabel('Country', size = 20)\n",
    "\n",
    "for rectangle in plot:\n",
    "    width = rectangle.get_width()\n",
    "    axis.text(width + 2.5, rectangle.get_y() + 0.38, '%d' % int(width), ha = 'center', va ='bottom')\n",
    "\n",
    "plt.savefig('topcountry.png', bbox_inches='tight')\n",
    "plt.show();"
   ]
  },
  {
   "cell_type": "markdown",
   "metadata": {},
   "source": [
    "## Top Ranked Categories"
   ]
  },
  {
   "cell_type": "code",
   "execution_count": 14,
   "metadata": {
    "scrolled": false
   },
   "outputs": [
    {
     "data": {
      "text/plain": [
       "Computers Electronics and Technology    26\n",
       "News and Media                           8\n",
       "Adult                                    4\n",
       "Arts & Entertainment                     4\n",
       "Science and Education                    2\n",
       "E commerce and Shopping                  2\n",
       "Games                                    2\n",
       "Reference Materials                      1\n",
       "Adult content                            1\n",
       "Name: Category, dtype: int64"
      ]
     },
     "execution_count": 14,
     "metadata": {},
     "output_type": "execute_result"
    }
   ],
   "source": [
    "# number of top websites by per category\n",
    "\n",
    "df[\"Category\"].value_counts()"
   ]
  },
  {
   "cell_type": "code",
   "execution_count": 15,
   "metadata": {
    "scrolled": false
   },
   "outputs": [
    {
     "data": {
      "image/png": "[encoded data removed]",
      "text/plain": [
       "<Figure size 648x432 with 1 Axes>"
      ]
     },
     "metadata": {},
     "output_type": "display_data"
    }
   ],
   "source": [
    "# creating the plot\n",
    "\n",
    "top_category = df[\"Category\"].value_counts()\n",
    "\n",
    "\n",
    "figure, axis = plt.subplots(figsize = (9,6))\n",
    "\n",
    "plot = axis.barh(top_category.index, top_category)\n",
    "plt.title('Categories with most rank website', size=25)\n",
    "plt.xlabel('Number of Website', size = 20)\n",
    "plt.ylabel('Categories', size = 20)\n",
    "\n",
    "for rectangle in plot:\n",
    "    width = rectangle.get_width()\n",
    "    axis.text(width + 2.5, rectangle.get_y() + 0.38, '%d' % int(width), ha = 'center', va ='bottom')\n",
    "\n",
    "plt.savefig('topcategories.png', bbox_inches='tight')\n",
    "plt.show();"
   ]
  },
  {
   "cell_type": "markdown",
   "metadata": {},
   "source": [
    "## Top Ranked Sub-Categories"
   ]
  },
  {
   "cell_type": "code",
   "execution_count": 16,
   "metadata": {},
   "outputs": [
    {
     "data": {
      "text/plain": [
       "Social Networks and Online Communities        11\n",
       "Search Engines                                 6\n",
       "Programming and Developer Software             3\n",
       "Email                                          2\n",
       "Marketplace                                    2\n",
       "Other Computers Electronics and Technology     2\n",
       "Video Games Consoles and Accessories           2\n",
       "Weather                                        2\n",
       "TV Movies and Streaming                        2\n",
       "Consumer Electronics                           1\n",
       "Animation and Comics                           1\n",
       "Telecommunications                             1\n",
       "Other Arts and Entertainment                   1\n",
       "Dictionaries and Encyclopedias                 1\n",
       "Name: SubCategory, dtype: int64"
      ]
     },
     "execution_count": 16,
     "metadata": {},
     "output_type": "execute_result"
    }
   ],
   "source": [
    "# subcategories with mmost rank\n",
    "\n",
    "df[\"SubCategory\"].value_counts()"
   ]
  },
  {
   "cell_type": "code",
   "execution_count": 17,
   "metadata": {},
   "outputs": [
    {
     "data": {
      "image/png": "[encoded data removed]",
      "text/plain": [
       "<Figure size 648x432 with 1 Axes>"
      ]
     },
     "metadata": {},
     "output_type": "display_data"
    }
   ],
   "source": [
    "\n",
    "# creating the plot\n",
    "figure, axis = plt.subplots(figsize = (9,6))\n",
    "\n",
    "top_subcategories = df[\"SubCategory\"].value_counts()\n",
    "\n",
    "plot = axis.barh(top_subcategories.index, top_subcategories)\n",
    "plt.title('Top rank subcategories', size=25)\n",
    "plt.xlabel('Number of Website', size = 20)\n",
    "plt.ylabel('Categories', size = 20)\n",
    "\n",
    "for rectangle in plot:\n",
    "    width = rectangle.get_width()\n",
    "    axis.text(width + 2.5, rectangle.get_y() + 0.38, '%d' % int(width), ha = 'center', va ='bottom')\n",
    "\n",
    "plt.savefig('topsubcategories.png', bbox_inches='tight')\n",
    "plt.show();"
   ]
  },
  {
   "cell_type": "markdown",
   "metadata": {},
   "source": [
    "## Top 5 top websites"
   ]
  },
  {
   "cell_type": "code",
   "execution_count": 34,
   "metadata": {
    "scrolled": true
   },
   "outputs": [
    {
     "data": {
      "text/html": [
       "<div>\n",
       "<style scoped>\n",
       "    .dataframe tbody tr th:only-of-type {\n",
       "        vertical-align: middle;\n",
       "    }\n",
       "\n",
       "    .dataframe tbody tr th {\n",
       "        vertical-align: top;\n",
       "    }\n",
       "\n",
       "    .dataframe thead th {\n",
       "        text-align: right;\n",
       "    }\n",
       "</style>\n",
       "<table border=\"1\" class=\"dataframe\">\n",
       "  <thead>\n",
       "    <tr style=\"text-align: right;\">\n",
       "      <th></th>\n",
       "      <th>Site</th>\n",
       "      <th>Domain Name</th>\n",
       "      <th>SmilarWeb Rank</th>\n",
       "    </tr>\n",
       "  </thead>\n",
       "  <tbody>\n",
       "    <tr>\n",
       "      <th>0</th>\n",
       "      <td>Google Search</td>\n",
       "      <td>google.com</td>\n",
       "      <td>1</td>\n",
       "    </tr>\n",
       "    <tr>\n",
       "      <th>1</th>\n",
       "      <td>YouTube</td>\n",
       "      <td>youtube.com</td>\n",
       "      <td>2</td>\n",
       "    </tr>\n",
       "    <tr>\n",
       "      <th>2</th>\n",
       "      <td>Facebook</td>\n",
       "      <td>facebook.com</td>\n",
       "      <td>3</td>\n",
       "    </tr>\n",
       "    <tr>\n",
       "      <th>3</th>\n",
       "      <td>Twitter</td>\n",
       "      <td>twitter.com</td>\n",
       "      <td>4</td>\n",
       "    </tr>\n",
       "    <tr>\n",
       "      <th>4</th>\n",
       "      <td>Instagram</td>\n",
       "      <td>instagram.com</td>\n",
       "      <td>5</td>\n",
       "    </tr>\n",
       "  </tbody>\n",
       "</table>\n",
       "</div>"
      ],
      "text/plain": [
       "            Site    Domain Name SmilarWeb Rank\n",
       "0  Google Search     google.com              1\n",
       "1        YouTube    youtube.com              2\n",
       "2       Facebook   facebook.com              3\n",
       "3        Twitter    twitter.com              4\n",
       "4      Instagram  instagram.com              5"
      ]
     },
     "execution_count": 34,
     "metadata": {},
     "output_type": "execute_result"
    }
   ],
   "source": [
    "top_sites = df.head(5)\n",
    "top_sites[['Site','Domain Name', \"SmilarWeb Rank\" ]]"
   ]
  },
  {
   "cell_type": "markdown",
   "metadata": {},
   "source": [
    "## Least 5 Top Ranked Website"
   ]
  },
  {
   "cell_type": "code",
   "execution_count": 33,
   "metadata": {},
   "outputs": [
    {
     "data": {
      "text/html": [
       "<div>\n",
       "<style scoped>\n",
       "    .dataframe tbody tr th:only-of-type {\n",
       "        vertical-align: middle;\n",
       "    }\n",
       "\n",
       "    .dataframe tbody tr th {\n",
       "        vertical-align: top;\n",
       "    }\n",
       "\n",
       "    .dataframe thead th {\n",
       "        text-align: right;\n",
       "    }\n",
       "</style>\n",
       "<table border=\"1\" class=\"dataframe\">\n",
       "  <thead>\n",
       "    <tr style=\"text-align: right;\">\n",
       "      <th></th>\n",
       "      <th>Site</th>\n",
       "      <th>Domain Name</th>\n",
       "      <th>SmilarWeb Rank</th>\n",
       "    </tr>\n",
       "  </thead>\n",
       "  <tbody>\n",
       "    <tr>\n",
       "      <th>49</th>\n",
       "      <td>OK.ru</td>\n",
       "      <td>ok.ru</td>\n",
       "      <td>50</td>\n",
       "    </tr>\n",
       "    <tr>\n",
       "      <th>48</th>\n",
       "      <td>Weather</td>\n",
       "      <td>weather.com</td>\n",
       "      <td>49</td>\n",
       "    </tr>\n",
       "    <tr>\n",
       "      <th>47</th>\n",
       "      <td>RealSRV</td>\n",
       "      <td>realsrv.com</td>\n",
       "      <td>48</td>\n",
       "    </tr>\n",
       "    <tr>\n",
       "      <th>46</th>\n",
       "      <td>Telegram</td>\n",
       "      <td>t.me</td>\n",
       "      <td>47</td>\n",
       "    </tr>\n",
       "    <tr>\n",
       "      <th>45</th>\n",
       "      <td>Fandom</td>\n",
       "      <td>fandom.com</td>\n",
       "      <td>46</td>\n",
       "    </tr>\n",
       "  </tbody>\n",
       "</table>\n",
       "</div>"
      ],
      "text/plain": [
       "        Site  Domain Name SmilarWeb Rank\n",
       "49     OK.ru        ok.ru             50\n",
       "48   Weather  weather.com             49\n",
       "47   RealSRV  realsrv.com             48\n",
       "46  Telegram         t.me             47\n",
       "45    Fandom   fandom.com             46"
      ]
     },
     "execution_count": 33,
     "metadata": {},
     "output_type": "execute_result"
    }
   ],
   "source": [
    "top_sites = df.tail(5)\n",
    "top_sites[['Site','Domain Name', \"SmilarWeb Rank\" ]].sort_values(by = 'SmilarWeb Rank', ascending = False)"
   ]
  },
  {
   "cell_type": "code",
   "execution_count": null,
   "metadata": {},
   "outputs": [],
   "source": []
  }
 ],
 "metadata": {
  "kernelspec": {
   "display_name": "Python 3",
   "language": "python",
   "name": "python3"
  },
  "language_info": {
   "codemirror_mode": {
    "name": "ipython",
    "version": 3
   },
   "file_extension": ".py",
   "mimetype": "text/x-python",
   "name": "python",
   "nbconvert_exporter": "python",
   "pygments_lexer": "ipython3",
   "version": "3.7.6"
  }
 },
 "nbformat": 4,
 "nbformat_minor": 4
}
