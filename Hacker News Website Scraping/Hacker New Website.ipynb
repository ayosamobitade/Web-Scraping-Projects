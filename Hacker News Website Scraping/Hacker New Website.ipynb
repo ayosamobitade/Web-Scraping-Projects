{
 "cells": [
  {
   "cell_type": "code",
   "execution_count": null,
   "metadata": {},
   "outputs": [],
   "source": [
    "## Hacker New Website"
   ]
  },
  {
   "cell_type": "code",
   "execution_count": 1,
   "metadata": {},
   "outputs": [],
   "source": [
    "# Import import libraries\n",
    "\n",
    "import requests\n",
    "import re\n",
    "from bs4 import BeautifulSoup\n"
   ]
  },
  {
   "cell_type": "code",
   "execution_count": 2,
   "metadata": {},
   "outputs": [],
   "source": [
    "# create \n",
    "\n",
    "articles = []\n",
    "\n",
    "url = 'https://news.ycombinator.com/news'\n",
    "\n",
    "r = requests.get(url)\n",
    "soup_html = BeautifulSoup(r.text, 'html.parser')\n"
   ]
  },
  {
   "cell_type": "code",
   "execution_count": 9,
   "metadata": {},
   "outputs": [
    {
     "name": "stdout",
     "output_type": "stream",
     "text": [
      "{'link': None, 'title': None, 'score': '21 comments'}\n",
      "{'link': None, 'title': None, 'score': '124 comments'}\n",
      "{'link': None, 'title': None, 'score': '191 comments'}\n",
      "{'link': None, 'title': None, 'score': '24 comments'}\n",
      "{'link': None, 'title': None, 'score': '4 comments'}\n",
      "{'link': None, 'title': None, 'score': '43 comments'}\n",
      "{'link': None, 'title': None, 'score': '145 comments'}\n",
      "{'link': None, 'title': None, 'score': '46 comments'}\n",
      "{'link': None, 'title': None, 'score': '87 comments'}\n",
      "{'link': None, 'title': None, 'score': '43 comments'}\n",
      "{'link': None, 'title': None, 'score': '69 comments'}\n",
      "{'link': None, 'title': None, 'score': '94 comments'}\n",
      "{'link': None, 'title': None, 'score': '0 comments'}\n",
      "{'link': None, 'title': None, 'score': '7 comments'}\n",
      "{'link': None, 'title': None, 'score': '157 comments'}\n",
      "{'link': None, 'title': None, 'score': '3 comments'}\n",
      "{'link': None, 'title': None, 'score': '46 comments'}\n",
      "{'link': None, 'title': None, 'score': '19 comments'}\n",
      "{'link': None, 'title': None, 'score': '38 comments'}\n",
      "{'link': None, 'title': None, 'score': '69 comments'}\n",
      "{'link': None, 'title': None, 'score': '0 comments'}\n",
      "{'link': None, 'title': None, 'score': '119 comments'}\n",
      "{'link': None, 'title': None, 'score': '12 comments'}\n",
      "{'link': None, 'title': None, 'score': '17 comments'}\n",
      "{'link': None, 'title': None, 'score': '1 comment'}\n",
      "{'link': None, 'title': None, 'score': '64 comments'}\n",
      "{'link': None, 'title': None, 'score': '100 comments'}\n",
      "{'link': None, 'title': None, 'score': '14 comments'}\n",
      "{'link': None, 'title': None, 'score': '19 comments'}\n",
      "{'link': None, 'title': None, 'score': '50 comments'}\n",
      "{'link': None, 'title': None, 'score': '21 comments'}\n",
      "{'link': None, 'title': None, 'score': '124 comments'}\n",
      "{'link': None, 'title': None, 'score': '191 comments'}\n",
      "{'link': None, 'title': None, 'score': '24 comments'}\n",
      "{'link': None, 'title': None, 'score': '4 comments'}\n",
      "{'link': None, 'title': None, 'score': '43 comments'}\n",
      "{'link': None, 'title': None, 'score': '145 comments'}\n",
      "{'link': None, 'title': None, 'score': '46 comments'}\n",
      "{'link': None, 'title': None, 'score': '87 comments'}\n",
      "{'link': None, 'title': None, 'score': '43 comments'}\n",
      "{'link': None, 'title': None, 'score': '69 comments'}\n",
      "{'link': None, 'title': None, 'score': '94 comments'}\n",
      "{'link': None, 'title': None, 'score': '0 comments'}\n",
      "{'link': None, 'title': None, 'score': '7 comments'}\n",
      "{'link': None, 'title': None, 'score': '157 comments'}\n",
      "{'link': None, 'title': None, 'score': '3 comments'}\n",
      "{'link': None, 'title': None, 'score': '46 comments'}\n",
      "{'link': None, 'title': None, 'score': '19 comments'}\n",
      "{'link': None, 'title': None, 'score': '38 comments'}\n",
      "{'link': None, 'title': None, 'score': '69 comments'}\n",
      "{'link': None, 'title': None, 'score': '0 comments'}\n",
      "{'link': None, 'title': None, 'score': '119 comments'}\n",
      "{'link': None, 'title': None, 'score': '12 comments'}\n",
      "{'link': None, 'title': None, 'score': '17 comments'}\n",
      "{'link': None, 'title': None, 'score': '1 comment'}\n",
      "{'link': None, 'title': None, 'score': '64 comments'}\n",
      "{'link': None, 'title': None, 'score': '100 comments'}\n",
      "{'link': None, 'title': None, 'score': '14 comments'}\n",
      "{'link': None, 'title': None, 'score': '19 comments'}\n",
      "{'link': None, 'title': None, 'score': '50 comments'}\n"
     ]
    }
   ],
   "source": [
    "for item in soup_html.find_all('tr', class_ = 'athing'):\n",
    "    item_a = item.find('a', class_ = 'storylink')\n",
    "    item_link = item_a.get('href') if item_a else None\n",
    "    item_text = item_a.get_text(strip=True) if item_a else None\n",
    "    next_row = item.find_next_sibling('tr')\n",
    "    item_score = next_row.find('span', class_='score')\n",
    "    item_score = item_score.get_text(strip=True) if item_score else '0 points'\n",
    "    \n",
    "    # Use regex to find the correct element\n",
    "    item_comments = next_row.find('a', string=re.compile('\\d+(&nbsp;|\\s)comment(s?)'))\n",
    "    item_comments = item_comments.get_text(strip = True).replace('\\xa0', ' ') if item_comments else '0 comments'\n",
    "    articles.append({\n",
    "        'link': item_link,\n",
    "        'title': item_text,\n",
    "        'score': item_comments\n",
    "    })\n",
    "    \n",
    "for article in articles:\n",
    "    print(article)"
   ]
  },
  {
   "cell_type": "code",
   "execution_count": null,
   "metadata": {},
   "outputs": [],
   "source": []
  }
 ],
 "metadata": {
  "kernelspec": {
   "display_name": "Python 3",
   "language": "python",
   "name": "python3"
  },
  "language_info": {
   "codemirror_mode": {
    "name": "ipython",
    "version": 3
   },
   "file_extension": ".py",
   "mimetype": "text/x-python",
   "name": "python",
   "nbconvert_exporter": "python",
   "pygments_lexer": "ipython3",
   "version": "3.7.6"
  }
 },
 "nbformat": 4,
 "nbformat_minor": 4
}
